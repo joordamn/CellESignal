{
 "cells": [
  {
   "cell_type": "code",
   "execution_count": null,
   "metadata": {},
   "outputs": [],
   "source": [
    "# -*- encoding: utf-8 -*-\n",
    "'''\n",
    "-------------------------\n",
    "@File    :   data_explore.ipynb\n",
    "@Time    :   2021/12/28 17:58:18\n",
    "@Author  :   Zhongning Jiang \n",
    "@Contact :   zhonjiang8-c@my.cityu.edu.hk\n",
    "@Desc    :   此脚本用于将原始数据及导出的峰值坐标进行裁剪，输出json格式，用于后续打标训练用\n",
    "-------------------------\n",
    "'''"
   ]
  },
  {
   "cell_type": "code",
   "execution_count": 1,
   "metadata": {},
   "outputs": [],
   "source": [
    "import numpy as np\n",
    "import matplotlib.pyplot as plt"
   ]
  },
  {
   "cell_type": "code",
   "execution_count": 2,
   "metadata": {},
   "outputs": [],
   "source": [
    "raw_data_file = \"./rawData.csv\" # 原始数据\n",
    "raw_peak_loc_file = \"./raw_data_loc.txt\" # 原始数据的峰值点坐标"
   ]
  },
  {
   "cell_type": "code",
   "execution_count": 3,
   "metadata": {},
   "outputs": [
    {
     "data": {
      "text/plain": [
       "[<matplotlib.lines.Line2D at 0x29dcde5dec8>]"
      ]
     },
     "execution_count": 3,
     "metadata": {},
     "output_type": "execute_result"
    },
    {
     "data": {
      "image/png": "[encoded data removed]",
      "text/plain": [
       "<Figure size 432x288 with 1 Axes>"
      ]
     },
     "metadata": {
      "needs_background": "light"
     },
     "output_type": "display_data"
    }
   ],
   "source": [
    "raw_data = np.genfromtxt(raw_data_file, delimiter=\",\")\n",
    "plt.plot(raw_data)"
   ]
  },
  {
   "cell_type": "code",
   "execution_count": 4,
   "metadata": {},
   "outputs": [
    {
     "name": "stdout",
     "output_type": "stream",
     "text": [
      "2000\n"
     ]
    }
   ],
   "source": [
    "with open(raw_peak_loc_file, mode='r', encoding='utf-8') as f:\n",
    "    lines = f.readlines()\n",
    "    loc = []\n",
    "    for line in lines:\n",
    "        loc.append(int(line))\n",
    "print(len(loc))\n"
   ]
  },
  {
   "cell_type": "code",
   "execution_count": 5,
   "metadata": {},
   "outputs": [
    {
     "name": "stdout",
     "output_type": "stream",
     "text": [
      "(2545061,)\n"
     ]
    }
   ],
   "source": [
    "print(raw_data.shape)"
   ]
  },
  {
   "cell_type": "code",
   "execution_count": 28,
   "metadata": {},
   "outputs": [],
   "source": [
    "# 根据loc的位置去前后截取raw_data的数据\n",
    "import tqdm\n",
    "def data_split(data:np.ndarray, loc_list:list, save_path:str, split_len=150, plot=False):\n",
    "    import json\n",
    "    \"\"\"根据loc的位置去前后截取raw_data的数据\n",
    "    \"\"\"\n",
    "    label = {\n",
    "        \"code\": \"\",\n",
    "        \"label\": 0,\n",
    "        \"number of peaks\": 0,\n",
    "        \"peaks' labels\": [],\n",
    "        \"borders\": [],\n",
    "        \"description\": \"\",\n",
    "        \"rt\":[],\n",
    "        \"scan\": [],\n",
    "        \"intensity\": [],\n",
    "        \"mz\": [],\n",
    "    }\n",
    "    for i, loc in tqdm(enumerate(loc_list)):\n",
    "        data_slice = data[loc - split_len: loc + split_len].tolist()\n",
    "        json_save_name = save_path + \"peak_sample_\" + str(i).zfill(5)\n",
    "        json_file = json_save_name + \".json\"\n",
    "        # 改写json内容\n",
    "        label[\"code\"] = \"data slice NO_\" + str(i).zfill(5)\n",
    "        label[\"intensity\"] = data_slice\n",
    "        with open(json_file, mode=\"w\", encoding=\"utf-8\") as jf:\n",
    "            json.dump(label, jf)\n",
    "        \n",
    "        # plot\n",
    "        if plot:\n",
    "            plt.figure()\n",
    "            plt.plot(data_slice)\n",
    "            fig_save_path = save_path + \"/fig/\"\n",
    "            if not os.path.exists(fig_save_path):\n",
    "                os.makedirs(fig_save_path)\n",
    "            plt.savefig(fig_save_path + \"peak_sample_\" + str(i).zfill(5) + \".jpg\")\n",
    "            plt.close(\"all\")"
   ]
  },
  {
   "cell_type": "code",
   "execution_count": 29,
   "metadata": {},
   "outputs": [],
   "source": [
    "import os\n",
    "save_path = \"./peak_data/\"\n",
    "if not os.path.exists(save_path):\n",
    "    os.makedirs(save_path)\n",
    "data_split(data=raw_data, loc_list=loc, save_path=save_path, plot=True)"
   ]
  },
  {
   "cell_type": "code",
   "execution_count": null,
   "metadata": {},
   "outputs": [],
   "source": []
  }
 ],
 "metadata": {
  "interpreter": {
   "hash": "3598d62b7013e76ebc95e9e9b90bec90db6b0a1f8476da1489d33cab6b89b475"
  },
  "kernelspec": {
   "display_name": "Python 3.7.5 64-bit ('peakonly': conda)",
   "language": "python",
   "name": "python3"
  },
  "language_info": {
   "codemirror_mode": {
    "name": "ipython",
    "version": 3
   },
   "file_extension": ".py",
   "mimetype": "text/x-python",
   "name": "python",
   "nbconvert_exporter": "python",
   "pygments_lexer": "ipython3",
   "version": "3.7.5"
  },
  "orig_nbformat": 4
 },
 "nbformat": 4,
 "nbformat_minor": 2
}
